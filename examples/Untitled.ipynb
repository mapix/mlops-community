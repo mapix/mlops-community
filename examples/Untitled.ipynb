{
 "cells": [
  {
   "cell_type": "code",
   "execution_count": 1,
   "id": "a41fab1c",
   "metadata": {},
   "outputs": [],
   "source": [
    "from qsar.predict import MolPredict"
   ]
  },
  {
   "cell_type": "code",
   "execution_count": 2,
   "id": "d33007f4",
   "metadata": {},
   "outputs": [
    {
     "data": {
      "text/plain": [
       "\u001B[0;31mInit signature:\u001B[0m\n",
       "\u001B[0mMolPredict\u001B[0m\u001B[0;34m(\u001B[0m\u001B[0;34m\u001B[0m\n",
       "\u001B[0;34m\u001B[0m    \u001B[0mmodel_dir\u001B[0m\u001B[0;34m=\u001B[0m\u001B[0;32mNone\u001B[0m\u001B[0;34m,\u001B[0m\u001B[0;34m\u001B[0m\n",
       "\u001B[0;34m\u001B[0m    \u001B[0mdata_path\u001B[0m\u001B[0;34m=\u001B[0m\u001B[0;32mNone\u001B[0m\u001B[0;34m,\u001B[0m\u001B[0;34m\u001B[0m\n",
       "\u001B[0;34m\u001B[0m    \u001B[0mmetrics\u001B[0m\u001B[0;34m=\u001B[0m\u001B[0;32mNone\u001B[0m\u001B[0;34m,\u001B[0m\u001B[0;34m\u001B[0m\n",
       "\u001B[0;34m\u001B[0m    \u001B[0msave_dir\u001B[0m\u001B[0;34m=\u001B[0m\u001B[0;32mNone\u001B[0m\u001B[0;34m,\u001B[0m\u001B[0;34m\u001B[0m\n",
       "\u001B[0;34m\u001B[0m    \u001B[0;34m**\u001B[0m\u001B[0mparams\u001B[0m\u001B[0;34m,\u001B[0m\u001B[0;34m\u001B[0m\n",
       "\u001B[0;34m\u001B[0m\u001B[0;34m)\u001B[0m\u001B[0;34m\u001B[0m\u001B[0;34m\u001B[0m\u001B[0m\n",
       "\u001B[0;31mDocstring:\u001B[0m      <no docstring>\n",
       "\u001B[0;31mFile:\u001B[0m           /opt/anaconda3/lib/python3.8/site-packages/uniqsar-0.0.1-py3.8.egg/qsar/predict.py\n",
       "\u001B[0;31mType:\u001B[0m           type\n",
       "\u001B[0;31mSubclasses:\u001B[0m     \n"
      ]
     },
     "metadata": {},
     "output_type": "display_data"
    }
   ],
   "source": [
    "?MolPredict"
   ]
  },
  {
   "cell_type": "code",
   "execution_count": 3,
   "id": "32ea07eb",
   "metadata": {},
   "outputs": [
    {
     "name": "stderr",
     "output_type": "stream",
     "text": [
      "2023-02-26 23:17:09 | qsar/utils/config_handler.py | 25 | INFO | Uni-QSAR | yaml handler load path: /Users/chang/MD_projects/Hermite-VirtualScreening/hmtdock/hifdock/scoring/models/config.yaml\n",
      "2023-02-26 23:17:09 | qsar/predict.py | 36 | INFO | Uni-QSAR | Config: {'Base': {'loss_func': 'auto', 'seed': 42, 'confidence': False}, 'Datahub': {'parsing': 'auto', 'target_col_prefix': 'TARGET', 'target_normalize': 'none', 'anomaly_clean': True, '1D_smiles': {'active': False, 'max_len': 200}, '2D_graph_1': {'active': False}, '3D_conformer': {'active': False, 'size': 1, 'method': 'rdkit_random', 'mode': 'heavy'}, 'FE_fringerprint': {'active': False, 'neighbor': 5, 'dim': 2048}, 'FE_handcrafts': {'active': False, 'base_featureset': True}}, 'Modelhub': {'NNModel': {}, 'MLModel': {'20221016_ranking_addbasefeature': {'active': True, 'model': 'GBDTModel', 'feature': 'scores', 'params': {'n_estimators': 1000, 'num_leaves': 31, 'learning_rate': 0.03}}}}, 'Ensembler': {'method': 'average', 'filter_size': 3}, 'Trainer': {'Common': {'split_method': '5fold_random', 'split_seed': 42, 'seed': 0, 'mode': 'fast', 'logger_level': 1, 'report': True}, 'NNtrainer': {'patience': 10, 'max_epochs': 100, 'learning_rate': '1e-4', 'warmup_ratio': 0.03, 'batch_size': 16, 'max_norm': 5.0, 'cuda': True, 'amp': True}, 'MLtrainer': {'cpu': -1}}, 'target_cols': 'TARGET_RMSD', 'num_classes': 1, 'task': 'regression'}\n"
     ]
    },
    {
     "name": "stdout",
     "output_type": "stream",
     "text": [
      "regression\n",
      "TARGET_RMSD\n",
      "1\n"
     ]
    },
    {
     "name": "stderr",
     "output_type": "stream",
     "text": [
      "2023-02-26 23:17:26 | qsar/models/modelhub.py | 52 | INFO | Uni-QSAR | init 20221016_ranking_addbasefeature_TAB_GBDTModel_TAB_scores_TAB_regression ML model\n"
     ]
    },
    {
     "name": "stdout",
     "output_type": "stream",
     "text": [
      "{'Common': {'split_method': '5fold_random', 'split_seed': 42, 'seed': 0, 'mode': 'fast', 'logger_level': 1, 'report': True}, 'NNtrainer': {'patience': 10, 'max_epochs': 100, 'learning_rate': '1e-4', 'warmup_ratio': 0.03, 'batch_size': 16, 'max_norm': 5.0, 'cuda': True, 'amp': True}, 'MLtrainer': {'cpu': -1}}\n",
      "20221016_ranking_addbasefeature GBDTModel scores regression\n"
     ]
    }
   ],
   "source": [
    "p = MolPredict(model_dir=\"/Users/chang/MD_projects/Hermite-VirtualScreening/hmtdock/hifdock/scoring/models\",\n",
    "               data_path=\"/Users/chang/MD_projects/IFD_tests/20221017_lbg_301sys/scores_collect.csv\",\n",
    "               save_dir=\"/Users/chang/temp\")"
   ]
  },
  {
   "cell_type": "code",
   "execution_count": 1,
   "id": "722aefbe",
   "metadata": {},
   "outputs": [
    {
     "ename": "NameError",
     "evalue": "name 'p' is not defined",
     "output_type": "error",
     "traceback": [
      "\u001B[0;31m---------------------------------------------------------------------------\u001B[0m",
      "\u001B[0;31mNameError\u001B[0m                                 Traceback (most recent call last)",
      "\u001B[0;32m/var/folders/pj/vr75mk852_7d66l0jmfwpnyh0000gn/T/ipykernel_63231/2376925039.py\u001B[0m in \u001B[0;36m<cell line: 1>\u001B[0;34m()\u001B[0m\n\u001B[0;32m----> 1\u001B[0;31m \u001B[0mp\u001B[0m\u001B[0;34m.\u001B[0m\u001B[0mpredict\u001B[0m\u001B[0;34m(\u001B[0m\u001B[0;34m)\u001B[0m\u001B[0;34m\u001B[0m\u001B[0;34m\u001B[0m\u001B[0m\n\u001B[0m",
      "\u001B[0;31mNameError\u001B[0m: name 'p' is not defined"
     ]
    }
   ],
   "source": [
    "p.predict()"
   ]
  },
  {
   "cell_type": "code",
   "execution_count": null,
   "id": "cf80f2f0",
   "metadata": {},
   "outputs": [],
   "source": []
  }
 ],
 "metadata": {
  "kernelspec": {
   "display_name": "Python 3 (ipykernel)",
   "language": "python",
   "name": "python3"
  },
  "language_info": {
   "codemirror_mode": {
    "name": "ipython",
    "version": 3
   },
   "file_extension": ".py",
   "mimetype": "text/x-python",
   "name": "python",
   "nbconvert_exporter": "python",
   "pygments_lexer": "ipython3",
   "version": "3.8.5"
  }
 },
 "nbformat": 4,
 "nbformat_minor": 5
}
